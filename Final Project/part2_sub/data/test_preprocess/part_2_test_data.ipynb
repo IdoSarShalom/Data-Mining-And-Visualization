{
 "cells": [
  {
   "cell_type": "markdown",
   "metadata": {},
   "source": [
    "# Pre-process on the test dataset"
   ]
  },
  {
   "cell_type": "code",
   "execution_count": 1,
   "metadata": {},
   "outputs": [],
   "source": [
    "# imports for the notebook\n",
    "import numpy as np\n",
    "import pandas as pd\n",
    "import matplotlib.pyplot as plt\n",
    "import seaborn as sns\n",
    "import datetime\n",
    "import random\n",
    "from sklearn.preprocessing import MinMaxScaler\n",
    "from sklearn.preprocessing import StandardScaler\n",
    "from sklearn.decomposition import PCA"
   ]
  },
  {
   "cell_type": "code",
   "execution_count": 2,
   "metadata": {},
   "outputs": [],
   "source": [
    "df = pd.read_csv(\"Marketing_Campaign_Test.csv\")  # Create a pandas object to read the data from the csv file"
   ]
  },
  {
   "cell_type": "code",
   "execution_count": 3,
   "metadata": {},
   "outputs": [
    {
     "name": "stdout",
     "output_type": "stream",
     "text": [
      "<class 'pandas.core.frame.DataFrame'>\n",
      "RangeIndex: 560 entries, 0 to 559\n",
      "Data columns (total 28 columns):\n",
      " #   Column                 Non-Null Count  Dtype  \n",
      "---  ------                 --------------  -----  \n",
      " 0   ID                     560 non-null    int64  \n",
      " 1   Year_Birth             551 non-null    float64\n",
      " 2   Education              556 non-null    object \n",
      " 3   Status                 543 non-null    object \n",
      " 4   Income                 543 non-null    float64\n",
      " 5   Num_of_kids            556 non-null    float64\n",
      " 6   Num_of_Teen            550 non-null    float64\n",
      " 7   Registration_date      560 non-null    object \n",
      " 8   Recency                560 non-null    int64  \n",
      " 9   Mnt_Fruits             558 non-null    float64\n",
      " 10  Mnt_Meat               558 non-null    float64\n",
      " 11  Mnt_sweet              552 non-null    float64\n",
      " 12  Mnt_Wines              558 non-null    float64\n",
      " 13  Mnt_Gold_Products      558 non-null    float64\n",
      " 14  Mnt_Fish               558 non-null    float64\n",
      " 15  Num_Web_Purchases      545 non-null    float64\n",
      " 16  Num_Store_Purchases    558 non-null    float64\n",
      " 17  Num_Deals_Purchases    558 non-null    float64\n",
      " 18  Num_Catalog_Purchases  558 non-null    float64\n",
      " 19  Num_Web_Visits         558 non-null    float64\n",
      " 20  Response_Campaign_1    548 non-null    float64\n",
      " 21  Response_Campaign_2    558 non-null    float64\n",
      " 22  Response_Campaign_3    558 non-null    float64\n",
      " 23  Response_Campaign_4    558 non-null    float64\n",
      " 24  Response_Campaign_5    558 non-null    float64\n",
      " 25  Complain               558 non-null    float64\n",
      " 26  Cost_Contact           558 non-null    float64\n",
      " 27  Revenue                558 non-null    float64\n",
      "dtypes: float64(23), int64(2), object(3)\n",
      "memory usage: 122.6+ KB\n"
     ]
    }
   ],
   "source": [
    "df.info()  # Get the type of each attribute"
   ]
  },
  {
   "cell_type": "code",
   "execution_count": 4,
   "metadata": {},
   "outputs": [
    {
     "data": {
      "text/plain": [
       "ID                       False\n",
       "Year_Birth                True\n",
       "Education                 True\n",
       "Status                    True\n",
       "Income                    True\n",
       "Num_of_kids               True\n",
       "Num_of_Teen               True\n",
       "Registration_date        False\n",
       "Recency                  False\n",
       "Mnt_Fruits                True\n",
       "Mnt_Meat                  True\n",
       "Mnt_sweet                 True\n",
       "Mnt_Wines                 True\n",
       "Mnt_Gold_Products         True\n",
       "Mnt_Fish                  True\n",
       "Num_Web_Purchases         True\n",
       "Num_Store_Purchases       True\n",
       "Num_Deals_Purchases       True\n",
       "Num_Catalog_Purchases     True\n",
       "Num_Web_Visits            True\n",
       "Response_Campaign_1       True\n",
       "Response_Campaign_2       True\n",
       "Response_Campaign_3       True\n",
       "Response_Campaign_4       True\n",
       "Response_Campaign_5       True\n",
       "Complain                  True\n",
       "Cost_Contact              True\n",
       "Revenue                   True\n",
       "dtype: bool"
      ]
     },
     "metadata": {},
     "output_type": "display_data"
    },
    {
     "name": "stdout",
     "output_type": "stream",
     "text": [
      "['Year_Birth', 'Education', 'Status', 'Income', 'Num_of_kids', 'Num_of_Teen', 'Mnt_Fruits', 'Mnt_Meat', 'Mnt_sweet', 'Mnt_Wines', 'Mnt_Gold_Products', 'Mnt_Fish', 'Num_Web_Purchases', 'Num_Store_Purchases', 'Num_Deals_Purchases', 'Num_Catalog_Purchases', 'Num_Web_Visits', 'Response_Campaign_1', 'Response_Campaign_2', 'Response_Campaign_3', 'Response_Campaign_4', 'Response_Campaign_5', 'Complain', 'Cost_Contact', 'Revenue']\n"
     ]
    }
   ],
   "source": [
    "df_missing_values = df.isnull().sum(axis=0)>1\n",
    "display(df_missing_values)\n",
    "\n",
    "missing_values_cols = []\n",
    "\n",
    "for col in df_missing_values.index:\n",
    "    if df_missing_values[col] == True:\n",
    "        missing_values_cols.append(col)\n",
    "\n",
    "        \n",
    "print(missing_values_cols)"
   ]
  },
  {
   "cell_type": "code",
   "execution_count": 5,
   "metadata": {},
   "outputs": [
    {
     "name": "stdout",
     "output_type": "stream",
     "text": [
      "Int64Index([42, 194, 355, 385, 552, 559], dtype='int64') \n",
      "\n",
      "<class 'pandas.core.frame.DataFrame'>\n",
      "Int64Index: 554 entries, 0 to 558\n",
      "Data columns (total 28 columns):\n",
      " #   Column                 Non-Null Count  Dtype  \n",
      "---  ------                 --------------  -----  \n",
      " 0   ID                     554 non-null    int64  \n",
      " 1   Year_Birth             549 non-null    float64\n",
      " 2   Education              554 non-null    object \n",
      " 3   Status                 541 non-null    object \n",
      " 4   Income                 541 non-null    float64\n",
      " 5   Num_of_kids            554 non-null    float64\n",
      " 6   Num_of_Teen            548 non-null    float64\n",
      " 7   Registration_date      554 non-null    object \n",
      " 8   Recency                554 non-null    int64  \n",
      " 9   Mnt_Fruits             554 non-null    float64\n",
      " 10  Mnt_Meat               554 non-null    float64\n",
      " 11  Mnt_sweet              548 non-null    float64\n",
      " 12  Mnt_Wines              554 non-null    float64\n",
      " 13  Mnt_Gold_Products      554 non-null    float64\n",
      " 14  Mnt_Fish               554 non-null    float64\n",
      " 15  Num_Web_Purchases      541 non-null    float64\n",
      " 16  Num_Store_Purchases    554 non-null    float64\n",
      " 17  Num_Deals_Purchases    554 non-null    float64\n",
      " 18  Num_Catalog_Purchases  554 non-null    float64\n",
      " 19  Num_Web_Visits         554 non-null    float64\n",
      " 20  Response_Campaign_1    544 non-null    float64\n",
      " 21  Response_Campaign_2    554 non-null    float64\n",
      " 22  Response_Campaign_3    554 non-null    float64\n",
      " 23  Response_Campaign_4    554 non-null    float64\n",
      " 24  Response_Campaign_5    554 non-null    float64\n",
      " 25  Complain               554 non-null    float64\n",
      " 26  Cost_Contact           554 non-null    float64\n",
      " 27  Revenue                554 non-null    float64\n",
      "dtypes: float64(23), int64(2), object(3)\n",
      "memory usage: 125.5+ KB\n"
     ]
    }
   ],
   "source": [
    "redundant_rows = df[df.isnull().sum(axis=1)>=6].index\n",
    "print(redundant_rows,'\\n')\n",
    "\n",
    "df = df.drop(redundant_rows)  # update the dataframe\n",
    "df.info()"
   ]
  },
  {
   "cell_type": "code",
   "execution_count": 6,
   "metadata": {},
   "outputs": [
    {
     "data": {
      "text/plain": [
       "ID                       False\n",
       "Year_Birth                True\n",
       "Education                False\n",
       "Status                    True\n",
       "Income                    True\n",
       "Num_of_kids              False\n",
       "Num_of_Teen               True\n",
       "Registration_date        False\n",
       "Recency                  False\n",
       "Mnt_Fruits               False\n",
       "Mnt_Meat                 False\n",
       "Mnt_sweet                 True\n",
       "Mnt_Wines                False\n",
       "Mnt_Gold_Products        False\n",
       "Mnt_Fish                 False\n",
       "Num_Web_Purchases         True\n",
       "Num_Store_Purchases      False\n",
       "Num_Deals_Purchases      False\n",
       "Num_Catalog_Purchases    False\n",
       "Num_Web_Visits           False\n",
       "Response_Campaign_1       True\n",
       "Response_Campaign_2      False\n",
       "Response_Campaign_3      False\n",
       "Response_Campaign_4      False\n",
       "Response_Campaign_5      False\n",
       "Complain                 False\n",
       "Cost_Contact             False\n",
       "Revenue                  False\n",
       "dtype: bool"
      ]
     },
     "metadata": {},
     "output_type": "display_data"
    },
    {
     "name": "stdout",
     "output_type": "stream",
     "text": [
      "['Year_Birth', 'Status', 'Income', 'Num_of_Teen', 'Mnt_sweet', 'Num_Web_Purchases', 'Response_Campaign_1']\n"
     ]
    }
   ],
   "source": [
    "df_missing_values = df.isnull().sum(axis=0)>1\n",
    "display(df_missing_values)\n",
    "\n",
    "missing_values_cols = []\n",
    "\n",
    "for col in df_missing_values.index:\n",
    "    if df_missing_values[col] == True:\n",
    "        missing_values_cols.append(col)\n",
    "\n",
    "        \n",
    "print(missing_values_cols)"
   ]
  },
  {
   "cell_type": "code",
   "execution_count": 7,
   "metadata": {},
   "outputs": [
    {
     "name": "stdout",
     "output_type": "stream",
     "text": [
      "Attribute  Year_Birth has  5  missing values\n",
      "Attribute  Status has  13  missing values\n",
      "Attribute  Income has  13  missing values\n",
      "Attribute  Num_of_Teen has  6  missing values\n",
      "Attribute  Mnt_sweet has  6  missing values\n",
      "Attribute  Num_Web_Purchases has  13  missing values\n",
      "Attribute  Response_Campaign_1 has  10  missing values\n"
     ]
    }
   ],
   "source": [
    "for col in missing_values_cols:\n",
    "    df_missing = df[col].isnull()\n",
    "    num_missing = df_missing.sum(axis=0)\n",
    "    print('Attribute ', col, 'has ', num_missing,' missing values')"
   ]
  },
  {
   "cell_type": "code",
   "execution_count": 8,
   "metadata": {},
   "outputs": [],
   "source": [
    "df['Registration_date'] = pd.to_datetime(df['Registration_date']) \n"
   ]
  },
  {
   "cell_type": "code",
   "execution_count": 9,
   "metadata": {},
   "outputs": [],
   "source": [
    "df[\"Education\"].replace(['Basic','2n Cycle','Graduation', 'Master', 'PhD'], [0, 1, 2, 3, 4], inplace=True)\n"
   ]
  },
  {
   "cell_type": "markdown",
   "metadata": {},
   "source": [
    "## Missing values"
   ]
  },
  {
   "cell_type": "code",
   "execution_count": 10,
   "metadata": {},
   "outputs": [
    {
     "name": "stdout",
     "output_type": "stream",
     "text": [
      "60 rows has  1  missing values\n",
      "3 rows has  2  missing values\n",
      "0 rows has  3  missing values\n",
      "0 rows has  4  missing values\n",
      "0 rows has  5  missing values\n",
      "0 rows has  6  missing values\n",
      "0 rows has more than  7  missing values\n",
      "66\n"
     ]
    }
   ],
   "source": [
    "sum1 = 0\n",
    "\n",
    "for val in range(1,7,1):\n",
    "    num = len(df[df.isnull().sum(axis=1)==val])\n",
    "    print(num, 'rows has ', val,' missing values')\n",
    "    sum1 += num * val\n",
    "    \n",
    "val = 7\n",
    "num = len(df[df.isnull().sum(axis=1)>val])\n",
    "print(num, 'rows has more than ', val,' missing values')\n",
    "\n",
    "print(sum1)"
   ]
  },
  {
   "cell_type": "code",
   "execution_count": 11,
   "metadata": {},
   "outputs": [
    {
     "name": "stdout",
     "output_type": "stream",
     "text": [
      "Attribute  Year_Birth has  5  missing values\n",
      "Attribute  Status has  13  missing values\n",
      "Attribute  Income has  13  missing values\n",
      "Attribute  Num_of_Teen has  6  missing values\n",
      "Attribute  Mnt_sweet has  6  missing values\n",
      "Attribute  Num_Web_Purchases has  13  missing values\n",
      "Attribute  Response_Campaign_1 has  10  missing values\n"
     ]
    }
   ],
   "source": [
    "for col in missing_values_cols:\n",
    "    df_missing = df[col].isnull()\n",
    "    num_missing = df_missing.sum(axis=0)\n",
    "    print('Attribute ', col, 'has ', num_missing,' missing values')"
   ]
  },
  {
   "cell_type": "code",
   "execution_count": 12,
   "metadata": {},
   "outputs": [
    {
     "data": {
      "text/html": [
       "<div>\n",
       "<style scoped>\n",
       "    .dataframe tbody tr th:only-of-type {\n",
       "        vertical-align: middle;\n",
       "    }\n",
       "\n",
       "    .dataframe tbody tr th {\n",
       "        vertical-align: top;\n",
       "    }\n",
       "\n",
       "    .dataframe thead th {\n",
       "        text-align: right;\n",
       "    }\n",
       "</style>\n",
       "<table border=\"1\" class=\"dataframe\">\n",
       "  <thead>\n",
       "    <tr style=\"text-align: right;\">\n",
       "      <th></th>\n",
       "      <th>ID</th>\n",
       "      <th>Year_Birth</th>\n",
       "      <th>Education</th>\n",
       "      <th>Status</th>\n",
       "      <th>Income</th>\n",
       "      <th>Num_of_kids</th>\n",
       "      <th>Num_of_Teen</th>\n",
       "      <th>Registration_date</th>\n",
       "      <th>Recency</th>\n",
       "      <th>Mnt_Fruits</th>\n",
       "      <th>...</th>\n",
       "      <th>Num_Catalog_Purchases</th>\n",
       "      <th>Num_Web_Visits</th>\n",
       "      <th>Response_Campaign_1</th>\n",
       "      <th>Response_Campaign_2</th>\n",
       "      <th>Response_Campaign_3</th>\n",
       "      <th>Response_Campaign_4</th>\n",
       "      <th>Response_Campaign_5</th>\n",
       "      <th>Complain</th>\n",
       "      <th>Cost_Contact</th>\n",
       "      <th>Revenue</th>\n",
       "    </tr>\n",
       "  </thead>\n",
       "  <tbody>\n",
       "    <tr>\n",
       "      <th>206</th>\n",
       "      <td>1377</td>\n",
       "      <td>NaN</td>\n",
       "      <td>3</td>\n",
       "      <td>Widow</td>\n",
       "      <td>44551.0</td>\n",
       "      <td>0.0</td>\n",
       "      <td>1.0</td>\n",
       "      <td>2013-08-31</td>\n",
       "      <td>24</td>\n",
       "      <td>182.0</td>\n",
       "      <td>...</td>\n",
       "      <td>5.0</td>\n",
       "      <td>14.0</td>\n",
       "      <td>0.0</td>\n",
       "      <td>0.0</td>\n",
       "      <td>0.0</td>\n",
       "      <td>0.0</td>\n",
       "      <td>0.0</td>\n",
       "      <td>0.0</td>\n",
       "      <td>3.0</td>\n",
       "      <td>11.0</td>\n",
       "    </tr>\n",
       "    <tr>\n",
       "      <th>252</th>\n",
       "      <td>7232</td>\n",
       "      <td>NaN</td>\n",
       "      <td>2</td>\n",
       "      <td>Widow</td>\n",
       "      <td>42429.0</td>\n",
       "      <td>0.0</td>\n",
       "      <td>1.0</td>\n",
       "      <td>2014-11-02</td>\n",
       "      <td>99</td>\n",
       "      <td>55.0</td>\n",
       "      <td>...</td>\n",
       "      <td>3.0</td>\n",
       "      <td>10.0</td>\n",
       "      <td>0.0</td>\n",
       "      <td>0.0</td>\n",
       "      <td>0.0</td>\n",
       "      <td>0.0</td>\n",
       "      <td>0.0</td>\n",
       "      <td>0.0</td>\n",
       "      <td>3.0</td>\n",
       "      <td>11.0</td>\n",
       "    </tr>\n",
       "    <tr>\n",
       "      <th>329</th>\n",
       "      <td>7094</td>\n",
       "      <td>NaN</td>\n",
       "      <td>2</td>\n",
       "      <td>Widow</td>\n",
       "      <td>58330.0</td>\n",
       "      <td>0.0</td>\n",
       "      <td>1.0</td>\n",
       "      <td>2013-12-25</td>\n",
       "      <td>87</td>\n",
       "      <td>445.0</td>\n",
       "      <td>...</td>\n",
       "      <td>13.0</td>\n",
       "      <td>8.0</td>\n",
       "      <td>0.0</td>\n",
       "      <td>0.0</td>\n",
       "      <td>0.0</td>\n",
       "      <td>0.0</td>\n",
       "      <td>0.0</td>\n",
       "      <td>0.0</td>\n",
       "      <td>3.0</td>\n",
       "      <td>11.0</td>\n",
       "    </tr>\n",
       "    <tr>\n",
       "      <th>375</th>\n",
       "      <td>313</td>\n",
       "      <td>NaN</td>\n",
       "      <td>2</td>\n",
       "      <td>Widow</td>\n",
       "      <td>73455.0</td>\n",
       "      <td>0.0</td>\n",
       "      <td>0.0</td>\n",
       "      <td>2013-10-28</td>\n",
       "      <td>98</td>\n",
       "      <td>901.0</td>\n",
       "      <td>...</td>\n",
       "      <td>10.0</td>\n",
       "      <td>6.0</td>\n",
       "      <td>0.0</td>\n",
       "      <td>1.0</td>\n",
       "      <td>0.0</td>\n",
       "      <td>0.0</td>\n",
       "      <td>0.0</td>\n",
       "      <td>0.0</td>\n",
       "      <td>3.0</td>\n",
       "      <td>11.0</td>\n",
       "    </tr>\n",
       "    <tr>\n",
       "      <th>378</th>\n",
       "      <td>10972</td>\n",
       "      <td>NaN</td>\n",
       "      <td>2</td>\n",
       "      <td>Widow</td>\n",
       "      <td>72298.0</td>\n",
       "      <td>0.0</td>\n",
       "      <td>0.0</td>\n",
       "      <td>2014-10-03</td>\n",
       "      <td>52</td>\n",
       "      <td>625.0</td>\n",
       "      <td>...</td>\n",
       "      <td>6.0</td>\n",
       "      <td>2.0</td>\n",
       "      <td>0.0</td>\n",
       "      <td>1.0</td>\n",
       "      <td>1.0</td>\n",
       "      <td>0.0</td>\n",
       "      <td>0.0</td>\n",
       "      <td>0.0</td>\n",
       "      <td>3.0</td>\n",
       "      <td>11.0</td>\n",
       "    </tr>\n",
       "  </tbody>\n",
       "</table>\n",
       "<p>5 rows × 28 columns</p>\n",
       "</div>"
      ],
      "text/plain": [
       "        ID  Year_Birth  Education Status   Income  Num_of_kids  Num_of_Teen  \\\n",
       "206   1377         NaN          3  Widow  44551.0          0.0          1.0   \n",
       "252   7232         NaN          2  Widow  42429.0          0.0          1.0   \n",
       "329   7094         NaN          2  Widow  58330.0          0.0          1.0   \n",
       "375    313         NaN          2  Widow  73455.0          0.0          0.0   \n",
       "378  10972         NaN          2  Widow  72298.0          0.0          0.0   \n",
       "\n",
       "    Registration_date  Recency  Mnt_Fruits  ...  Num_Catalog_Purchases  \\\n",
       "206        2013-08-31       24       182.0  ...                    5.0   \n",
       "252        2014-11-02       99        55.0  ...                    3.0   \n",
       "329        2013-12-25       87       445.0  ...                   13.0   \n",
       "375        2013-10-28       98       901.0  ...                   10.0   \n",
       "378        2014-10-03       52       625.0  ...                    6.0   \n",
       "\n",
       "     Num_Web_Visits  Response_Campaign_1  Response_Campaign_2  \\\n",
       "206            14.0                  0.0                  0.0   \n",
       "252            10.0                  0.0                  0.0   \n",
       "329             8.0                  0.0                  0.0   \n",
       "375             6.0                  0.0                  1.0   \n",
       "378             2.0                  0.0                  1.0   \n",
       "\n",
       "     Response_Campaign_3  Response_Campaign_4  Response_Campaign_5  Complain  \\\n",
       "206                  0.0                  0.0                  0.0       0.0   \n",
       "252                  0.0                  0.0                  0.0       0.0   \n",
       "329                  0.0                  0.0                  0.0       0.0   \n",
       "375                  0.0                  0.0                  0.0       0.0   \n",
       "378                  1.0                  0.0                  0.0       0.0   \n",
       "\n",
       "     Cost_Contact  Revenue  \n",
       "206           3.0     11.0  \n",
       "252           3.0     11.0  \n",
       "329           3.0     11.0  \n",
       "375           3.0     11.0  \n",
       "378           3.0     11.0  \n",
       "\n",
       "[5 rows x 28 columns]"
      ]
     },
     "execution_count": 12,
     "metadata": {},
     "output_type": "execute_result"
    }
   ],
   "source": [
    "df[df['Year_Birth'].isnull()]"
   ]
  },
  {
   "cell_type": "markdown",
   "metadata": {},
   "source": [
    "all of the ones with missing Year_Birth are widow"
   ]
  },
  {
   "cell_type": "code",
   "execution_count": 13,
   "metadata": {},
   "outputs": [
    {
     "data": {
      "text/plain": [
       "<seaborn.axisgrid.FacetGrid at 0x1d4e3c19be0>"
      ]
     },
     "execution_count": 13,
     "metadata": {},
     "output_type": "execute_result"
    },
    {
     "data": {
      "image/png": "[encoded data removed]",
      "text/plain": [
       "<Figure size 360x360 with 1 Axes>"
      ]
     },
     "metadata": {
      "needs_background": "light"
     },
     "output_type": "display_data"
    }
   ],
   "source": [
    "a = df[df[\"Status\"]==\"Widow\"]\n",
    "sns.displot(a[\"Year_Birth\"])"
   ]
  },
  {
   "cell_type": "code",
   "execution_count": 14,
   "metadata": {},
   "outputs": [
    {
     "name": "stderr",
     "output_type": "stream",
     "text": [
      "C:\\Users\\Tomer\\AppData\\Local\\Temp/ipykernel_18716/1946963785.py:3: SettingWithCopyWarning: \n",
      "A value is trying to be set on a copy of a slice from a DataFrame\n",
      "\n",
      "See the caveats in the documentation: https://pandas.pydata.org/pandas-docs/stable/user_guide/indexing.html#returning-a-view-versus-a-copy\n",
      "  a[\"Year_Birth\"][row] = df[\"Year_Birth\"][row] = np.random.randint(1945, 1970)\n"
     ]
    },
    {
     "data": {
      "text/plain": [
       "<seaborn.axisgrid.FacetGrid at 0x1d4e3828be0>"
      ]
     },
     "execution_count": 14,
     "metadata": {},
     "output_type": "execute_result"
    },
    {
     "data": {
      "image/png": "[encoded data removed]",
      "text/plain": [
       "<Figure size 360x360 with 1 Axes>"
      ]
     },
     "metadata": {
      "needs_background": "light"
     },
     "output_type": "display_data"
    }
   ],
   "source": [
    "missing_value_1 = df[\"Year_Birth\"][df[\"Year_Birth\"].isnull()]\n",
    "for row in missing_value_1.index:\n",
    "    a[\"Year_Birth\"][row] = df[\"Year_Birth\"][row] = np.random.randint(1945, 1970)\n",
    "sns.displot(a[\"Year_Birth\"])"
   ]
  },
  {
   "cell_type": "code",
   "execution_count": 15,
   "metadata": {},
   "outputs": [
    {
     "name": "stdout",
     "output_type": "stream",
     "text": [
      "Attribute  Year_Birth has  0  missing values\n",
      "Attribute  Status has  13  missing values\n",
      "Attribute  Income has  13  missing values\n",
      "Attribute  Num_of_Teen has  6  missing values\n",
      "Attribute  Mnt_sweet has  6  missing values\n",
      "Attribute  Num_Web_Purchases has  13  missing values\n",
      "Attribute  Response_Campaign_1 has  10  missing values\n",
      "61\n"
     ]
    }
   ],
   "source": [
    "sum2 = 0\n",
    "\n",
    "for col in missing_values_cols:\n",
    "    df_missing = df[col].isnull()\n",
    "    num_missing = df_missing.sum(axis=0)\n",
    "    print('Attribute ', col, 'has ', num_missing,' missing values')\n",
    "    sum2 += num_missing\n",
    "\n",
    "print(sum2)"
   ]
  },
  {
   "cell_type": "code",
   "execution_count": 16,
   "metadata": {},
   "outputs": [
    {
     "name": "stdout",
     "output_type": "stream",
     "text": [
      "<class 'pandas.core.frame.DataFrame'>\n",
      "Int64Index: 554 entries, 0 to 558\n",
      "Data columns (total 28 columns):\n",
      " #   Column                 Non-Null Count  Dtype         \n",
      "---  ------                 --------------  -----         \n",
      " 0   ID                     554 non-null    int64         \n",
      " 1   Year_Birth             554 non-null    float64       \n",
      " 2   Education              554 non-null    int64         \n",
      " 3   Status                 541 non-null    object        \n",
      " 4   Income                 541 non-null    float64       \n",
      " 5   Num_of_kids            554 non-null    float64       \n",
      " 6   Num_of_Teen            548 non-null    float64       \n",
      " 7   Registration_date      554 non-null    datetime64[ns]\n",
      " 8   Recency                554 non-null    int64         \n",
      " 9   Mnt_Fruits             554 non-null    float64       \n",
      " 10  Mnt_Meat               554 non-null    float64       \n",
      " 11  Mnt_sweet              548 non-null    float64       \n",
      " 12  Mnt_Wines              554 non-null    float64       \n",
      " 13  Mnt_Gold_Products      554 non-null    float64       \n",
      " 14  Mnt_Fish               554 non-null    float64       \n",
      " 15  Num_Web_Purchases      541 non-null    float64       \n",
      " 16  Num_Store_Purchases    554 non-null    float64       \n",
      " 17  Num_Deals_Purchases    554 non-null    float64       \n",
      " 18  Num_Catalog_Purchases  554 non-null    float64       \n",
      " 19  Num_Web_Visits         554 non-null    float64       \n",
      " 20  Response_Campaign_1    544 non-null    float64       \n",
      " 21  Response_Campaign_2    554 non-null    float64       \n",
      " 22  Response_Campaign_3    554 non-null    float64       \n",
      " 23  Response_Campaign_4    554 non-null    float64       \n",
      " 24  Response_Campaign_5    554 non-null    float64       \n",
      " 25  Complain               554 non-null    float64       \n",
      " 26  Cost_Contact           554 non-null    float64       \n",
      " 27  Revenue                554 non-null    float64       \n",
      "dtypes: datetime64[ns](1), float64(23), int64(3), object(1)\n",
      "memory usage: 141.7+ KB\n"
     ]
    }
   ],
   "source": [
    "df.info()"
   ]
  },
  {
   "cell_type": "code",
   "execution_count": 17,
   "metadata": {},
   "outputs": [
    {
     "data": {
      "text/plain": [
       "array(['Together', 'Married', nan, 'Single', 'Divorced', 'Widow', 'Alone'],\n",
       "      dtype=object)"
      ]
     },
     "execution_count": 17,
     "metadata": {},
     "output_type": "execute_result"
    }
   ],
   "source": [
    "df[\"Status\"].unique()"
   ]
  },
  {
   "cell_type": "code",
   "execution_count": 18,
   "metadata": {},
   "outputs": [
    {
     "data": {
      "text/html": [
       "<div>\n",
       "<style scoped>\n",
       "    .dataframe tbody tr th:only-of-type {\n",
       "        vertical-align: middle;\n",
       "    }\n",
       "\n",
       "    .dataframe tbody tr th {\n",
       "        vertical-align: top;\n",
       "    }\n",
       "\n",
       "    .dataframe thead th {\n",
       "        text-align: right;\n",
       "    }\n",
       "</style>\n",
       "<table border=\"1\" class=\"dataframe\">\n",
       "  <thead>\n",
       "    <tr style=\"text-align: right;\">\n",
       "      <th></th>\n",
       "      <th>ID</th>\n",
       "      <th>Year_Birth</th>\n",
       "      <th>Education</th>\n",
       "      <th>Status</th>\n",
       "      <th>Income</th>\n",
       "      <th>Num_of_kids</th>\n",
       "      <th>Num_of_Teen</th>\n",
       "      <th>Registration_date</th>\n",
       "      <th>Recency</th>\n",
       "      <th>Mnt_Fruits</th>\n",
       "      <th>...</th>\n",
       "      <th>Num_Catalog_Purchases</th>\n",
       "      <th>Num_Web_Visits</th>\n",
       "      <th>Response_Campaign_1</th>\n",
       "      <th>Response_Campaign_2</th>\n",
       "      <th>Response_Campaign_3</th>\n",
       "      <th>Response_Campaign_4</th>\n",
       "      <th>Response_Campaign_5</th>\n",
       "      <th>Complain</th>\n",
       "      <th>Cost_Contact</th>\n",
       "      <th>Revenue</th>\n",
       "    </tr>\n",
       "  </thead>\n",
       "  <tbody>\n",
       "    <tr>\n",
       "      <th>157</th>\n",
       "      <td>7660</td>\n",
       "      <td>1973.0</td>\n",
       "      <td>4</td>\n",
       "      <td>Alone</td>\n",
       "      <td>35860.0</td>\n",
       "      <td>1.0</td>\n",
       "      <td>1.0</td>\n",
       "      <td>2014-05-19</td>\n",
       "      <td>37</td>\n",
       "      <td>15.0</td>\n",
       "      <td>...</td>\n",
       "      <td>2.0</td>\n",
       "      <td>10.0</td>\n",
       "      <td>1.0</td>\n",
       "      <td>0.0</td>\n",
       "      <td>0.0</td>\n",
       "      <td>0.0</td>\n",
       "      <td>0.0</td>\n",
       "      <td>0.0</td>\n",
       "      <td>3.0</td>\n",
       "      <td>11.0</td>\n",
       "    </tr>\n",
       "  </tbody>\n",
       "</table>\n",
       "<p>1 rows × 28 columns</p>\n",
       "</div>"
      ],
      "text/plain": [
       "       ID  Year_Birth  Education Status   Income  Num_of_kids  Num_of_Teen  \\\n",
       "157  7660      1973.0          4  Alone  35860.0          1.0          1.0   \n",
       "\n",
       "    Registration_date  Recency  Mnt_Fruits  ...  Num_Catalog_Purchases  \\\n",
       "157        2014-05-19       37        15.0  ...                    2.0   \n",
       "\n",
       "     Num_Web_Visits  Response_Campaign_1  Response_Campaign_2  \\\n",
       "157            10.0                  1.0                  0.0   \n",
       "\n",
       "     Response_Campaign_3  Response_Campaign_4  Response_Campaign_5  Complain  \\\n",
       "157                  0.0                  0.0                  0.0       0.0   \n",
       "\n",
       "     Cost_Contact  Revenue  \n",
       "157           3.0     11.0  \n",
       "\n",
       "[1 rows x 28 columns]"
      ]
     },
     "execution_count": 18,
     "metadata": {},
     "output_type": "execute_result"
    }
   ],
   "source": [
    "df[df[\"Status\"] == \"Alone\"]"
   ]
  },
  {
   "cell_type": "markdown",
   "metadata": {},
   "source": [
    "we will change \"Alone\" to single "
   ]
  },
  {
   "cell_type": "code",
   "execution_count": 19,
   "metadata": {},
   "outputs": [
    {
     "name": "stderr",
     "output_type": "stream",
     "text": [
      "C:\\Users\\Tomer\\AppData\\Local\\Temp/ipykernel_18716/561559530.py:1: SettingWithCopyWarning: \n",
      "A value is trying to be set on a copy of a slice from a DataFrame\n",
      "\n",
      "See the caveats in the documentation: https://pandas.pydata.org/pandas-docs/stable/user_guide/indexing.html#returning-a-view-versus-a-copy\n",
      "  df[\"Status\"][df[\"Status\"] == \"Alone\"] = \"Single\"\n"
     ]
    }
   ],
   "source": [
    "df[\"Status\"][df[\"Status\"] == \"Alone\"] = \"Single\""
   ]
  },
  {
   "cell_type": "code",
   "execution_count": 20,
   "metadata": {},
   "outputs": [
    {
     "data": {
      "text/plain": [
       "array(['Together', 'Married', nan, 'Single', 'Divorced', 'Widow'],\n",
       "      dtype=object)"
      ]
     },
     "execution_count": 20,
     "metadata": {},
     "output_type": "execute_result"
    }
   ],
   "source": [
    "df[\"Status\"].unique()"
   ]
  },
  {
   "cell_type": "code",
   "execution_count": 21,
   "metadata": {},
   "outputs": [
    {
     "data": {
      "text/plain": [
       "<seaborn.axisgrid.FacetGrid at 0x1d4e44be8e0>"
      ]
     },
     "execution_count": 21,
     "metadata": {},
     "output_type": "execute_result"
    },
    {
     "data": {
      "image/png": "[encoded data removed]",
      "text/plain": [
       "<Figure size 360x360 with 1 Axes>"
      ]
     },
     "metadata": {
      "needs_background": "light"
     },
     "output_type": "display_data"
    }
   ],
   "source": [
    "sns.catplot(x=\"Status\", kind=\"count\", data=df)"
   ]
  },
  {
   "cell_type": "code",
   "execution_count": 22,
   "metadata": {},
   "outputs": [
    {
     "name": "stdout",
     "output_type": "stream",
     "text": [
      "['Together' 'Married' 'Single' 'Divorced' 'Widow']\n"
     ]
    },
    {
     "name": "stderr",
     "output_type": "stream",
     "text": [
      "C:\\Users\\Tomer\\AppData\\Local\\Temp/ipykernel_18716/3312035300.py:4: SettingWithCopyWarning: \n",
      "A value is trying to be set on a copy of a slice from a DataFrame\n",
      "\n",
      "See the caveats in the documentation: https://pandas.pydata.org/pandas-docs/stable/user_guide/indexing.html#returning-a-view-versus-a-copy\n",
      "  df[\"Status\"][row] = random.choice(df[\"Status\"][df[\"Status\"].isnull()==False].values)\n"
     ]
    }
   ],
   "source": [
    "missing_value_status = df[\"Status\"][df[\"Status\"].isnull()]\n",
    "if len(missing_value_status.index) !=0:\n",
    "    for row in missing_value_status.index:\n",
    "        df[\"Status\"][row] = random.choice(df[\"Status\"][df[\"Status\"].isnull()==False].values)\n",
    "\n",
    "else:\n",
    "    print(\"no nan values\")\n",
    "print(df[\"Status\"].unique())"
   ]
  },
  {
   "cell_type": "code",
   "execution_count": 23,
   "metadata": {},
   "outputs": [
    {
     "data": {
      "text/plain": [
       "array([2, 5, 1, 3, 4], dtype=int64)"
      ]
     },
     "execution_count": 23,
     "metadata": {},
     "output_type": "execute_result"
    }
   ],
   "source": [
    "df[\"Status_cat\"] = df[\"Status\"].copy()\n",
    "df[\"Status_cat\"].replace(['Single','Together', 'Divorced', 'Widow', 'Married'], [1, 2, 3, 4, 5], inplace=True)\n",
    "df[\"Status_cat\"].unique()"
   ]
  },
  {
   "cell_type": "code",
   "execution_count": 24,
   "metadata": {},
   "outputs": [
    {
     "data": {
      "text/plain": [
       "<seaborn.axisgrid.FacetGrid at 0x1d4e44c4fd0>"
      ]
     },
     "execution_count": 24,
     "metadata": {},
     "output_type": "execute_result"
    },
    {
     "data": {
      "image/png": "[encoded data removed]",
      "text/plain": [
       "<Figure size 360x360 with 1 Axes>"
      ]
     },
     "metadata": {
      "needs_background": "light"
     },
     "output_type": "display_data"
    }
   ],
   "source": [
    "sns.catplot(x=\"Status\", kind=\"count\", data=df)"
   ]
  },
  {
   "cell_type": "code",
   "execution_count": 25,
   "metadata": {},
   "outputs": [
    {
     "name": "stdout",
     "output_type": "stream",
     "text": [
      "Attribute  Year_Birth has  0  missing values\n",
      "Attribute  Status has  0  missing values\n",
      "Attribute  Income has  13  missing values\n",
      "Attribute  Num_of_Teen has  6  missing values\n",
      "Attribute  Mnt_sweet has  6  missing values\n",
      "Attribute  Num_Web_Purchases has  13  missing values\n",
      "Attribute  Response_Campaign_1 has  10  missing values\n",
      "48\n"
     ]
    }
   ],
   "source": [
    "sum2 = 0\n",
    "\n",
    "for col in missing_values_cols:\n",
    "    df_missing = df[col].isnull()\n",
    "    num_missing = df_missing.sum(axis=0)\n",
    "    print('Attribute ', col, 'has ', num_missing,' missing values')\n",
    "    sum2 += num_missing\n",
    "\n",
    "print(sum2)"
   ]
  },
  {
   "cell_type": "code",
   "execution_count": 26,
   "metadata": {},
   "outputs": [],
   "source": [
    "df[\"Mnt_all\"] = df[\"Mnt_sweet\"] + df[\"Mnt_Fruits\"] + df[\"Mnt_Gold_Products\"] + df[\"Mnt_Wines\"] + df[\"Mnt_Meat\"] + df[\"Mnt_Fish\"]\n"
   ]
  },
  {
   "cell_type": "code",
   "execution_count": 27,
   "metadata": {},
   "outputs": [
    {
     "name": "stdout",
     "output_type": "stream",
     "text": [
      "<class 'pandas.core.frame.DataFrame'>\n",
      "Int64Index: 554 entries, 0 to 558\n",
      "Data columns (total 30 columns):\n",
      " #   Column                 Non-Null Count  Dtype         \n",
      "---  ------                 --------------  -----         \n",
      " 0   ID                     554 non-null    int64         \n",
      " 1   Year_Birth             554 non-null    float64       \n",
      " 2   Education              554 non-null    int64         \n",
      " 3   Status                 554 non-null    object        \n",
      " 4   Income                 541 non-null    float64       \n",
      " 5   Num_of_kids            554 non-null    float64       \n",
      " 6   Num_of_Teen            548 non-null    float64       \n",
      " 7   Registration_date      554 non-null    datetime64[ns]\n",
      " 8   Recency                554 non-null    int64         \n",
      " 9   Mnt_Fruits             554 non-null    float64       \n",
      " 10  Mnt_Meat               554 non-null    float64       \n",
      " 11  Mnt_sweet              548 non-null    float64       \n",
      " 12  Mnt_Wines              554 non-null    float64       \n",
      " 13  Mnt_Gold_Products      554 non-null    float64       \n",
      " 14  Mnt_Fish               554 non-null    float64       \n",
      " 15  Num_Web_Purchases      541 non-null    float64       \n",
      " 16  Num_Store_Purchases    554 non-null    float64       \n",
      " 17  Num_Deals_Purchases    554 non-null    float64       \n",
      " 18  Num_Catalog_Purchases  554 non-null    float64       \n",
      " 19  Num_Web_Visits         554 non-null    float64       \n",
      " 20  Response_Campaign_1    544 non-null    float64       \n",
      " 21  Response_Campaign_2    554 non-null    float64       \n",
      " 22  Response_Campaign_3    554 non-null    float64       \n",
      " 23  Response_Campaign_4    554 non-null    float64       \n",
      " 24  Response_Campaign_5    554 non-null    float64       \n",
      " 25  Complain               554 non-null    float64       \n",
      " 26  Cost_Contact           554 non-null    float64       \n",
      " 27  Revenue                554 non-null    float64       \n",
      " 28  Status_cat             554 non-null    int64         \n",
      " 29  Mnt_all                548 non-null    float64       \n",
      "dtypes: datetime64[ns](1), float64(24), int64(4), object(1)\n",
      "memory usage: 150.3+ KB\n"
     ]
    }
   ],
   "source": [
    "df.info()"
   ]
  },
  {
   "cell_type": "code",
   "execution_count": 28,
   "metadata": {},
   "outputs": [
    {
     "name": "stdout",
     "output_type": "stream",
     "text": [
      "empty_on_first_one! \n",
      "empty_on_first_one! \n"
     ]
    },
    {
     "name": "stderr",
     "output_type": "stream",
     "text": [
      "C:\\Users\\Tomer\\AppData\\Local\\Temp/ipykernel_18716/4212524986.py:6: UserWarning: Boolean Series key will be reindexed to match DataFrame index.\n",
      "  c = a[df[\"Mnt_all\"] < b + 5]\n",
      "C:\\Users\\Tomer\\AppData\\Local\\Temp/ipykernel_18716/4212524986.py:16: SettingWithCopyWarning: \n",
      "A value is trying to be set on a copy of a slice from a DataFrame\n",
      "\n",
      "See the caveats in the documentation: https://pandas.pydata.org/pandas-docs/stable/user_guide/indexing.html#returning-a-view-versus-a-copy\n",
      "  df[\"Income\"][row] = (c[\"Income\"][c[\"Income\"].isnull()==False]).mean()\n",
      "C:\\Users\\Tomer\\AppData\\Local\\Temp/ipykernel_18716/4212524986.py:11: UserWarning: Boolean Series key will be reindexed to match DataFrame index.\n",
      "  c = a[df[\"Mnt_all\"] < b + 15]\n"
     ]
    }
   ],
   "source": [
    "missing_value_Income = df[df[\"Income\"].isnull()]\n",
    "\n",
    "for row in missing_value_Income.index:\n",
    "    b = df[\"Mnt_all\"][row]\n",
    "    a = df[df[\"Mnt_all\"] > b - 5]\n",
    "    c = a[df[\"Mnt_all\"] < b + 5]\n",
    "\n",
    "    if c[\"Income\"][c[\"Income\"].isnull()==False].empty | c.empty:\n",
    "        print(\"empty_on_first_one! \")\n",
    "        a = df[df[\"Mnt_all\"] > b -15]\n",
    "        c = a[df[\"Mnt_all\"] < b + 15]\n",
    "\n",
    "    if c[\"Income\"][c[\"Income\"].isnull()==False].empty | c.empty:\n",
    "        print(\"always empty!  ;)\")\n",
    "        c = df \n",
    "    df[\"Income\"][row] = (c[\"Income\"][c[\"Income\"].isnull()==False]).mean()"
   ]
  },
  {
   "cell_type": "code",
   "execution_count": 29,
   "metadata": {},
   "outputs": [
    {
     "name": "stdout",
     "output_type": "stream",
     "text": [
      "Attribute  Year_Birth has  0  missing values\n",
      "Attribute  Status has  0  missing values\n",
      "Attribute  Income has  0  missing values\n",
      "Attribute  Num_of_Teen has  6  missing values\n",
      "Attribute  Mnt_sweet has  6  missing values\n",
      "Attribute  Num_Web_Purchases has  13  missing values\n",
      "Attribute  Response_Campaign_1 has  10  missing values\n",
      "35\n"
     ]
    }
   ],
   "source": [
    "sum2 = 0\n",
    "\n",
    "for col in missing_values_cols:\n",
    "    df_missing = df[col].isnull()\n",
    "    num_missing = df_missing.sum(axis=0)\n",
    "    print('Attribute ', col, 'has ', num_missing,' missing values')\n",
    "    sum2 += num_missing\n",
    "\n",
    "print(sum2)"
   ]
  },
  {
   "cell_type": "code",
   "execution_count": 30,
   "metadata": {},
   "outputs": [
    {
     "name": "stderr",
     "output_type": "stream",
     "text": [
      "C:\\Users\\Tomer\\AppData\\Local\\Temp/ipykernel_18716/516328937.py:6: UserWarning: Boolean Series key will be reindexed to match DataFrame index.\n",
      "  c = a[df[\"Num_Deals_Purchases\"] < b + 1]\n",
      "C:\\Users\\Tomer\\AppData\\Local\\Temp/ipykernel_18716/516328937.py:14: SettingWithCopyWarning: \n",
      "A value is trying to be set on a copy of a slice from a DataFrame\n",
      "\n",
      "See the caveats in the documentation: https://pandas.pydata.org/pandas-docs/stable/user_guide/indexing.html#returning-a-view-versus-a-copy\n",
      "  df[\"Mnt_sweet\"][row] = (c[\"Mnt_sweet\"][c[\"Mnt_sweet\"].isnull()==False]).mean()\n"
     ]
    }
   ],
   "source": [
    "missing_value_sweet = df[df[\"Mnt_sweet\"].isnull()]\n",
    "\n",
    "for row in missing_value_sweet.index:\n",
    "    b = df[\"Num_Deals_Purchases\"][row]\n",
    "    a = df[df[\"Num_Deals_Purchases\"] > b -1]\n",
    "    c = a[df[\"Num_Deals_Purchases\"] < b + 1]\n",
    "    if c.empty:\n",
    "        print(\"empty_on_first_one! \")\n",
    "        a = df[df[\"Num_Deals_Purchases\"] > b -2]\n",
    "        c = a[df[\"Num_Deals_Purchases\"] < b + 2]\n",
    "    if c.empty:\n",
    "        print(\"always empty! ;)\")\n",
    "        c = df        \n",
    "    df[\"Mnt_sweet\"][row] = (c[\"Mnt_sweet\"][c[\"Mnt_sweet\"].isnull()==False]).mean()"
   ]
  },
  {
   "cell_type": "code",
   "execution_count": 31,
   "metadata": {},
   "outputs": [
    {
     "name": "stdout",
     "output_type": "stream",
     "text": [
      "Attribute  Year_Birth has  0  missing values\n",
      "Attribute  Status has  0  missing values\n",
      "Attribute  Income has  0  missing values\n",
      "Attribute  Num_of_Teen has  6  missing values\n",
      "Attribute  Mnt_sweet has  0  missing values\n",
      "Attribute  Num_Web_Purchases has  13  missing values\n",
      "Attribute  Response_Campaign_1 has  10  missing values\n",
      "29\n"
     ]
    }
   ],
   "source": [
    "sum2 = 0\n",
    "\n",
    "for col in missing_values_cols:\n",
    "    df_missing = df[col].isnull()\n",
    "    num_missing = df_missing.sum(axis=0)\n",
    "    print('Attribute ', col, 'has ', num_missing,' missing values')\n",
    "    sum2 += num_missing\n",
    "\n",
    "print(sum2)"
   ]
  },
  {
   "cell_type": "code",
   "execution_count": 32,
   "metadata": {},
   "outputs": [
    {
     "name": "stderr",
     "output_type": "stream",
     "text": [
      "C:\\Users\\Tomer\\AppData\\Local\\Temp/ipykernel_18716/3647383370.py:6: UserWarning: Boolean Series key will be reindexed to match DataFrame index.\n",
      "  c = a[df[\"Num_Web_Purchases\"] < b + 1]\n",
      "C:\\Users\\Tomer\\AppData\\Local\\Temp/ipykernel_18716/3647383370.py:14: SettingWithCopyWarning: \n",
      "A value is trying to be set on a copy of a slice from a DataFrame\n",
      "\n",
      "See the caveats in the documentation: https://pandas.pydata.org/pandas-docs/stable/user_guide/indexing.html#returning-a-view-versus-a-copy\n",
      "  df[\"Num_of_Teen\"][row] = int((c[\"Num_of_Teen\"][c[\"Num_of_Teen\"].isnull()==False]).mean())\n"
     ]
    }
   ],
   "source": [
    "missing_value_sweet = df[df[\"Num_of_Teen\"].isnull()]\n",
    "\n",
    "for row in missing_value_sweet.index:\n",
    "    b = df[\"Num_Web_Purchases\"][row]\n",
    "    a = df[df[\"Num_Web_Purchases\"] > b -1]\n",
    "    c = a[df[\"Num_Web_Purchases\"] < b + 1]\n",
    "    if c.empty:\n",
    "        print(\"empty_on_first_one! \")\n",
    "        a = df[df[\"Num_Web_Purchases\"] > b -2]\n",
    "        c = a[df[\"Num_Web_Purchases\"] < b + 2]\n",
    "    if c.empty:\n",
    "        print(\"always empty! ;)\")\n",
    "        c = df        \n",
    "    df[\"Num_of_Teen\"][row] = int((c[\"Num_of_Teen\"][c[\"Num_of_Teen\"].isnull()==False]).mean())"
   ]
  },
  {
   "cell_type": "code",
   "execution_count": 33,
   "metadata": {},
   "outputs": [
    {
     "name": "stdout",
     "output_type": "stream",
     "text": [
      "Attribute  Year_Birth has  0  missing values\n",
      "Attribute  Status has  0  missing values\n",
      "Attribute  Income has  0  missing values\n",
      "Attribute  Num_of_Teen has  0  missing values\n",
      "Attribute  Mnt_sweet has  0  missing values\n",
      "Attribute  Num_Web_Purchases has  13  missing values\n",
      "Attribute  Response_Campaign_1 has  10  missing values\n",
      "23\n"
     ]
    }
   ],
   "source": [
    "sum2 = 0\n",
    "\n",
    "for col in missing_values_cols:\n",
    "    df_missing = df[col].isnull()\n",
    "    num_missing = df_missing.sum(axis=0)\n",
    "    print('Attribute ', col, 'has ', num_missing,' missing values')\n",
    "    sum2 += num_missing\n",
    "\n",
    "print(sum2)"
   ]
  },
  {
   "cell_type": "code",
   "execution_count": 34,
   "metadata": {},
   "outputs": [
    {
     "name": "stderr",
     "output_type": "stream",
     "text": [
      "C:\\Users\\Tomer\\AppData\\Local\\Temp/ipykernel_18716/1137775252.py:15: SettingWithCopyWarning: \n",
      "A value is trying to be set on a copy of a slice from a DataFrame\n",
      "\n",
      "See the caveats in the documentation: https://pandas.pydata.org/pandas-docs/stable/user_guide/indexing.html#returning-a-view-versus-a-copy\n",
      "  df[\"Num_Web_Purchases\"][row] = int((c[\"Num_Web_Purchases\"][c[\"Num_Web_Purchases\"].isnull()==False]).mean())\n",
      "C:\\Users\\Tomer\\AppData\\Local\\Temp/ipykernel_18716/1137775252.py:6: UserWarning: Boolean Series key will be reindexed to match DataFrame index.\n",
      "  c = a[df[\"Num_of_Teen\"] < b + 1]\n"
     ]
    }
   ],
   "source": [
    "missing_value_sweet = df[df[\"Num_Web_Purchases\"].isnull()]\n",
    "\n",
    "for row in missing_value_sweet.index:\n",
    "    b = df[\"Num_of_Teen\"][row]\n",
    "    a = df[df[\"Num_of_Teen\"] > b - 1]\n",
    "    c = a[df[\"Num_of_Teen\"] < b + 1]\n",
    "    if c.empty:\n",
    "        print(\"empty_on_first_one! \")\n",
    "        a = df[df[\"Num_of_Teen\"] > b - 2]\n",
    "        c = a[df[\"Num_of_Teen\"] < b + 2]\n",
    "\n",
    "    if c.empty:\n",
    "        print(\"always empty! ;)\")\n",
    "        c = df        \n",
    "    df[\"Num_Web_Purchases\"][row] = int((c[\"Num_Web_Purchases\"][c[\"Num_Web_Purchases\"].isnull()==False]).mean())"
   ]
  },
  {
   "cell_type": "code",
   "execution_count": 35,
   "metadata": {},
   "outputs": [
    {
     "name": "stdout",
     "output_type": "stream",
     "text": [
      "Attribute  Year_Birth has  0  missing values\n",
      "Attribute  Status has  0  missing values\n",
      "Attribute  Income has  0  missing values\n",
      "Attribute  Num_of_Teen has  0  missing values\n",
      "Attribute  Mnt_sweet has  0  missing values\n",
      "Attribute  Num_Web_Purchases has  0  missing values\n",
      "Attribute  Response_Campaign_1 has  10  missing values\n",
      "10\n"
     ]
    }
   ],
   "source": [
    "sum2 = 0\n",
    "\n",
    "for col in missing_values_cols:\n",
    "    df_missing = df[col].isnull()\n",
    "    num_missing = df_missing.sum(axis=0)\n",
    "    print('Attribute ', col, 'has ', num_missing,' missing values')\n",
    "    sum2 += num_missing\n",
    "\n",
    "print(sum2)"
   ]
  },
  {
   "cell_type": "code",
   "execution_count": 36,
   "metadata": {},
   "outputs": [],
   "source": [
    "df[\"Response_Campaign_1\"] = df[\"Response_Campaign_1\"].fillna(0)\n"
   ]
  },
  {
   "cell_type": "code",
   "execution_count": 37,
   "metadata": {},
   "outputs": [
    {
     "name": "stdout",
     "output_type": "stream",
     "text": [
      "Attribute  Year_Birth has  0  missing values\n",
      "Attribute  Status has  0  missing values\n",
      "Attribute  Income has  0  missing values\n",
      "Attribute  Num_of_Teen has  0  missing values\n",
      "Attribute  Mnt_sweet has  0  missing values\n",
      "Attribute  Num_Web_Purchases has  0  missing values\n",
      "Attribute  Response_Campaign_1 has  0  missing values\n",
      "0\n"
     ]
    }
   ],
   "source": [
    "sum2 = 0\n",
    "\n",
    "for col in missing_values_cols:\n",
    "    df_missing = df[col].isnull()\n",
    "    num_missing = df_missing.sum(axis=0)\n",
    "    print('Attribute ', col, 'has ', num_missing,' missing values')\n",
    "    sum2 += num_missing\n",
    "\n",
    "print(sum2)"
   ]
  },
  {
   "cell_type": "code",
   "execution_count": 38,
   "metadata": {},
   "outputs": [],
   "source": [
    "df[\"Mnt_all\"] = df[\"Mnt_sweet\"] + df[\"Mnt_Fruits\"] + df[\"Mnt_Gold_Products\"] + df[\"Mnt_Wines\"] + df[\"Mnt_Meat\"] + df[\"Mnt_Fish\"]\n",
    "df[\"Status_cat\"] = df[\"Status\"].copy()\n",
    "df[\"Status_cat\"].replace(['Single','Together', 'Divorced', 'Widow', 'Married'], [1, 2, 3, 4, 5], inplace=True)"
   ]
  },
  {
   "cell_type": "code",
   "execution_count": 39,
   "metadata": {},
   "outputs": [
    {
     "name": "stdout",
     "output_type": "stream",
     "text": [
      "<class 'pandas.core.frame.DataFrame'>\n",
      "Int64Index: 554 entries, 0 to 558\n",
      "Data columns (total 28 columns):\n",
      " #   Column                 Non-Null Count  Dtype         \n",
      "---  ------                 --------------  -----         \n",
      " 0   ID                     554 non-null    int64         \n",
      " 1   Year_Birth             554 non-null    float64       \n",
      " 2   Education              554 non-null    int64         \n",
      " 3   Status                 554 non-null    object        \n",
      " 4   Income                 554 non-null    float64       \n",
      " 5   Num_of_kids            554 non-null    float64       \n",
      " 6   Num_of_Teen            554 non-null    float64       \n",
      " 7   Registration_date      554 non-null    datetime64[ns]\n",
      " 8   Recency                554 non-null    int64         \n",
      " 9   Mnt_Fruits             554 non-null    float64       \n",
      " 10  Mnt_Meat               554 non-null    float64       \n",
      " 11  Mnt_sweet              554 non-null    float64       \n",
      " 12  Mnt_Wines              554 non-null    float64       \n",
      " 13  Mnt_Gold_Products      554 non-null    float64       \n",
      " 14  Mnt_Fish               554 non-null    float64       \n",
      " 15  Num_Web_Purchases      554 non-null    float64       \n",
      " 16  Num_Store_Purchases    554 non-null    float64       \n",
      " 17  Num_Deals_Purchases    554 non-null    float64       \n",
      " 18  Num_Catalog_Purchases  554 non-null    float64       \n",
      " 19  Num_Web_Visits         554 non-null    float64       \n",
      " 20  Response_Campaign_1    554 non-null    float64       \n",
      " 21  Response_Campaign_2    554 non-null    float64       \n",
      " 22  Response_Campaign_3    554 non-null    float64       \n",
      " 23  Response_Campaign_4    554 non-null    float64       \n",
      " 24  Response_Campaign_5    554 non-null    float64       \n",
      " 25  Complain               554 non-null    float64       \n",
      " 26  Status_cat             554 non-null    int64         \n",
      " 27  Mnt_all                554 non-null    float64       \n",
      "dtypes: datetime64[ns](1), float64(22), int64(4), object(1)\n",
      "memory usage: 141.7+ KB\n"
     ]
    }
   ],
   "source": [
    "df = df.drop([\"Cost_Contact\", \"Revenue\"], axis=1)\n",
    "df.info()"
   ]
  },
  {
   "cell_type": "code",
   "execution_count": 40,
   "metadata": {},
   "outputs": [
    {
     "name": "stdout",
     "output_type": "stream",
     "text": [
      "ID 554\n",
      "Year_Birth 55\n",
      "Education 5\n",
      "Status 5\n",
      "Income 536\n",
      "Num_of_kids 3\n",
      "Num_of_Teen 3\n",
      "Registration_date 374\n",
      "Recency 100\n",
      "Mnt_Fruits 338\n",
      "Mnt_Meat 118\n",
      "Mnt_sweet 267\n",
      "Mnt_Wines 127\n",
      "Mnt_Gold_Products 116\n",
      "Mnt_Fish 138\n",
      "Num_Web_Purchases 11\n",
      "Num_Store_Purchases 12\n",
      "Num_Deals_Purchases 12\n",
      "Num_Catalog_Purchases 14\n",
      "Num_Web_Visits 13\n",
      "Response_Campaign_1 2\n",
      "Response_Campaign_2 2\n",
      "Response_Campaign_3 2\n",
      "Response_Campaign_4 2\n",
      "Response_Campaign_5 2\n",
      "Complain 2\n",
      "Status_cat 5\n",
      "Mnt_all 416\n"
     ]
    }
   ],
   "source": [
    "for col in df.columns:\n",
    "    print(col, len(df[col].unique()))"
   ]
  },
  {
   "cell_type": "code",
   "execution_count": 41,
   "metadata": {},
   "outputs": [
    {
     "data": {
      "text/plain": [
       "27"
      ]
     },
     "execution_count": 41,
     "metadata": {},
     "output_type": "execute_result"
    }
   ],
   "source": [
    "numeric_col = df.describe(datetime_is_numeric=True).columns\n",
    "numeric_col.__len__()\n"
   ]
  },
  {
   "cell_type": "code",
   "execution_count": 42,
   "metadata": {},
   "outputs": [
    {
     "data": {
      "text/html": [
       "<div>\n",
       "<style scoped>\n",
       "    .dataframe tbody tr th:only-of-type {\n",
       "        vertical-align: middle;\n",
       "    }\n",
       "\n",
       "    .dataframe tbody tr th {\n",
       "        vertical-align: top;\n",
       "    }\n",
       "\n",
       "    .dataframe thead th {\n",
       "        text-align: right;\n",
       "    }\n",
       "</style>\n",
       "<table border=\"1\" class=\"dataframe\">\n",
       "  <thead>\n",
       "    <tr style=\"text-align: right;\">\n",
       "      <th></th>\n",
       "      <th>ID</th>\n",
       "      <th>Year_Birth</th>\n",
       "      <th>Education</th>\n",
       "      <th>Income</th>\n",
       "      <th>Num_of_kids</th>\n",
       "      <th>Num_of_Teen</th>\n",
       "      <th>Registration_date</th>\n",
       "      <th>Recency</th>\n",
       "      <th>Mnt_Fruits</th>\n",
       "      <th>Mnt_Meat</th>\n",
       "      <th>...</th>\n",
       "      <th>Num_Catalog_Purchases</th>\n",
       "      <th>Num_Web_Visits</th>\n",
       "      <th>Response_Campaign_1</th>\n",
       "      <th>Response_Campaign_2</th>\n",
       "      <th>Response_Campaign_3</th>\n",
       "      <th>Response_Campaign_4</th>\n",
       "      <th>Response_Campaign_5</th>\n",
       "      <th>Complain</th>\n",
       "      <th>Status_cat</th>\n",
       "      <th>Mnt_all</th>\n",
       "    </tr>\n",
       "  </thead>\n",
       "  <tbody>\n",
       "    <tr>\n",
       "      <th>count</th>\n",
       "      <td>554.000000</td>\n",
       "      <td>554.000000</td>\n",
       "      <td>554.000000</td>\n",
       "      <td>554.000000</td>\n",
       "      <td>554.000000</td>\n",
       "      <td>554.000000</td>\n",
       "      <td>554.000000</td>\n",
       "      <td>554.000000</td>\n",
       "      <td>554.000000</td>\n",
       "      <td>554.000000</td>\n",
       "      <td>...</td>\n",
       "      <td>554.000000</td>\n",
       "      <td>554.000000</td>\n",
       "      <td>554.000000</td>\n",
       "      <td>554.000000</td>\n",
       "      <td>554.000000</td>\n",
       "      <td>554.000000</td>\n",
       "      <td>554.000000</td>\n",
       "      <td>554.000000</td>\n",
       "      <td>554.000000</td>\n",
       "      <td>554.000000</td>\n",
       "    </tr>\n",
       "    <tr>\n",
       "      <th>mean</th>\n",
       "      <td>5604.407942</td>\n",
       "      <td>0.710308</td>\n",
       "      <td>0.614621</td>\n",
       "      <td>0.317554</td>\n",
       "      <td>0.206679</td>\n",
       "      <td>0.256318</td>\n",
       "      <td>0.514782</td>\n",
       "      <td>0.503318</td>\n",
       "      <td>0.207487</td>\n",
       "      <td>0.148586</td>\n",
       "      <td>...</td>\n",
       "      <td>0.456679</td>\n",
       "      <td>0.357401</td>\n",
       "      <td>0.063177</td>\n",
       "      <td>0.083032</td>\n",
       "      <td>0.072202</td>\n",
       "      <td>0.063177</td>\n",
       "      <td>0.012635</td>\n",
       "      <td>0.010830</td>\n",
       "      <td>0.509928</td>\n",
       "      <td>0.251481</td>\n",
       "    </tr>\n",
       "    <tr>\n",
       "      <th>std</th>\n",
       "      <td>3286.942917</td>\n",
       "      <td>0.126898</td>\n",
       "      <td>0.244178</td>\n",
       "      <td>0.136184</td>\n",
       "      <td>0.269234</td>\n",
       "      <td>0.272630</td>\n",
       "      <td>0.217456</td>\n",
       "      <td>0.288414</td>\n",
       "      <td>0.220360</td>\n",
       "      <td>0.214771</td>\n",
       "      <td>...</td>\n",
       "      <td>0.254575</td>\n",
       "      <td>0.171273</td>\n",
       "      <td>0.243501</td>\n",
       "      <td>0.276181</td>\n",
       "      <td>0.259056</td>\n",
       "      <td>0.243501</td>\n",
       "      <td>0.111796</td>\n",
       "      <td>0.103597</td>\n",
       "      <td>0.404977</td>\n",
       "      <td>0.243700</td>\n",
       "    </tr>\n",
       "    <tr>\n",
       "      <th>min</th>\n",
       "      <td>13.000000</td>\n",
       "      <td>0.000000</td>\n",
       "      <td>0.000000</td>\n",
       "      <td>0.000000</td>\n",
       "      <td>0.000000</td>\n",
       "      <td>0.000000</td>\n",
       "      <td>0.000000</td>\n",
       "      <td>0.000000</td>\n",
       "      <td>0.000000</td>\n",
       "      <td>0.000000</td>\n",
       "      <td>...</td>\n",
       "      <td>0.000000</td>\n",
       "      <td>0.000000</td>\n",
       "      <td>0.000000</td>\n",
       "      <td>0.000000</td>\n",
       "      <td>0.000000</td>\n",
       "      <td>0.000000</td>\n",
       "      <td>0.000000</td>\n",
       "      <td>0.000000</td>\n",
       "      <td>0.000000</td>\n",
       "      <td>0.000000</td>\n",
       "    </tr>\n",
       "    <tr>\n",
       "      <th>25%</th>\n",
       "      <td>2745.750000</td>\n",
       "      <td>0.614583</td>\n",
       "      <td>0.500000</td>\n",
       "      <td>0.210285</td>\n",
       "      <td>0.000000</td>\n",
       "      <td>0.000000</td>\n",
       "      <td>0.345104</td>\n",
       "      <td>0.262626</td>\n",
       "      <td>0.019323</td>\n",
       "      <td>0.010050</td>\n",
       "      <td>...</td>\n",
       "      <td>0.230769</td>\n",
       "      <td>0.214286</td>\n",
       "      <td>0.000000</td>\n",
       "      <td>0.000000</td>\n",
       "      <td>0.000000</td>\n",
       "      <td>0.000000</td>\n",
       "      <td>0.000000</td>\n",
       "      <td>0.000000</td>\n",
       "      <td>0.250000</td>\n",
       "      <td>0.028862</td>\n",
       "    </tr>\n",
       "    <tr>\n",
       "      <th>50%</th>\n",
       "      <td>5365.000000</td>\n",
       "      <td>0.729167</td>\n",
       "      <td>0.500000</td>\n",
       "      <td>0.319676</td>\n",
       "      <td>0.000000</td>\n",
       "      <td>0.000000</td>\n",
       "      <td>0.509416</td>\n",
       "      <td>0.494949</td>\n",
       "      <td>0.135431</td>\n",
       "      <td>0.050251</td>\n",
       "      <td>...</td>\n",
       "      <td>0.384615</td>\n",
       "      <td>0.357143</td>\n",
       "      <td>0.000000</td>\n",
       "      <td>0.000000</td>\n",
       "      <td>0.000000</td>\n",
       "      <td>0.000000</td>\n",
       "      <td>0.000000</td>\n",
       "      <td>0.000000</td>\n",
       "      <td>0.500000</td>\n",
       "      <td>0.178102</td>\n",
       "    </tr>\n",
       "    <tr>\n",
       "      <th>75%</th>\n",
       "      <td>8543.000000</td>\n",
       "      <td>0.802083</td>\n",
       "      <td>0.750000</td>\n",
       "      <td>0.426177</td>\n",
       "      <td>0.500000</td>\n",
       "      <td>0.500000</td>\n",
       "      <td>0.677495</td>\n",
       "      <td>0.747475</td>\n",
       "      <td>0.336183</td>\n",
       "      <td>0.185930</td>\n",
       "      <td>...</td>\n",
       "      <td>0.615385</td>\n",
       "      <td>0.500000</td>\n",
       "      <td>0.000000</td>\n",
       "      <td>0.000000</td>\n",
       "      <td>0.000000</td>\n",
       "      <td>0.000000</td>\n",
       "      <td>0.000000</td>\n",
       "      <td>0.000000</td>\n",
       "      <td>1.000000</td>\n",
       "      <td>0.432313</td>\n",
       "    </tr>\n",
       "    <tr>\n",
       "      <th>max</th>\n",
       "      <td>11188.000000</td>\n",
       "      <td>1.000000</td>\n",
       "      <td>1.000000</td>\n",
       "      <td>1.000000</td>\n",
       "      <td>1.000000</td>\n",
       "      <td>1.000000</td>\n",
       "      <td>1.000000</td>\n",
       "      <td>1.000000</td>\n",
       "      <td>1.000000</td>\n",
       "      <td>1.000000</td>\n",
       "      <td>...</td>\n",
       "      <td>1.000000</td>\n",
       "      <td>1.000000</td>\n",
       "      <td>1.000000</td>\n",
       "      <td>1.000000</td>\n",
       "      <td>1.000000</td>\n",
       "      <td>1.000000</td>\n",
       "      <td>1.000000</td>\n",
       "      <td>1.000000</td>\n",
       "      <td>1.000000</td>\n",
       "      <td>1.000000</td>\n",
       "    </tr>\n",
       "  </tbody>\n",
       "</table>\n",
       "<p>8 rows × 27 columns</p>\n",
       "</div>"
      ],
      "text/plain": [
       "                 ID  Year_Birth   Education      Income  Num_of_kids  \\\n",
       "count    554.000000  554.000000  554.000000  554.000000   554.000000   \n",
       "mean    5604.407942    0.710308    0.614621    0.317554     0.206679   \n",
       "std     3286.942917    0.126898    0.244178    0.136184     0.269234   \n",
       "min       13.000000    0.000000    0.000000    0.000000     0.000000   \n",
       "25%     2745.750000    0.614583    0.500000    0.210285     0.000000   \n",
       "50%     5365.000000    0.729167    0.500000    0.319676     0.000000   \n",
       "75%     8543.000000    0.802083    0.750000    0.426177     0.500000   \n",
       "max    11188.000000    1.000000    1.000000    1.000000     1.000000   \n",
       "\n",
       "       Num_of_Teen  Registration_date     Recency  Mnt_Fruits    Mnt_Meat  \\\n",
       "count   554.000000         554.000000  554.000000  554.000000  554.000000   \n",
       "mean      0.256318           0.514782    0.503318    0.207487    0.148586   \n",
       "std       0.272630           0.217456    0.288414    0.220360    0.214771   \n",
       "min       0.000000           0.000000    0.000000    0.000000    0.000000   \n",
       "25%       0.000000           0.345104    0.262626    0.019323    0.010050   \n",
       "50%       0.000000           0.509416    0.494949    0.135431    0.050251   \n",
       "75%       0.500000           0.677495    0.747475    0.336183    0.185930   \n",
       "max       1.000000           1.000000    1.000000    1.000000    1.000000   \n",
       "\n",
       "       ...  Num_Catalog_Purchases  Num_Web_Visits  Response_Campaign_1  \\\n",
       "count  ...             554.000000      554.000000           554.000000   \n",
       "mean   ...               0.456679        0.357401             0.063177   \n",
       "std    ...               0.254575        0.171273             0.243501   \n",
       "min    ...               0.000000        0.000000             0.000000   \n",
       "25%    ...               0.230769        0.214286             0.000000   \n",
       "50%    ...               0.384615        0.357143             0.000000   \n",
       "75%    ...               0.615385        0.500000             0.000000   \n",
       "max    ...               1.000000        1.000000             1.000000   \n",
       "\n",
       "       Response_Campaign_2  Response_Campaign_3  Response_Campaign_4  \\\n",
       "count           554.000000           554.000000           554.000000   \n",
       "mean              0.083032             0.072202             0.063177   \n",
       "std               0.276181             0.259056             0.243501   \n",
       "min               0.000000             0.000000             0.000000   \n",
       "25%               0.000000             0.000000             0.000000   \n",
       "50%               0.000000             0.000000             0.000000   \n",
       "75%               0.000000             0.000000             0.000000   \n",
       "max               1.000000             1.000000             1.000000   \n",
       "\n",
       "       Response_Campaign_5    Complain  Status_cat     Mnt_all  \n",
       "count           554.000000  554.000000  554.000000  554.000000  \n",
       "mean              0.012635    0.010830    0.509928    0.251481  \n",
       "std               0.111796    0.103597    0.404977    0.243700  \n",
       "min               0.000000    0.000000    0.000000    0.000000  \n",
       "25%               0.000000    0.000000    0.250000    0.028862  \n",
       "50%               0.000000    0.000000    0.500000    0.178102  \n",
       "75%               0.000000    0.000000    1.000000    0.432313  \n",
       "max               1.000000    1.000000    1.000000    1.000000  \n",
       "\n",
       "[8 rows x 27 columns]"
      ]
     },
     "execution_count": 42,
     "metadata": {},
     "output_type": "execute_result"
    }
   ],
   "source": [
    "numeric_data = df[numeric_col]\n",
    "scaler = MinMaxScaler()\n",
    "    \n",
    "for i in numeric_data:\n",
    "    if i !='ID':\n",
    "        scaler.fit(pd.DataFrame(df[i]))\n",
    "        df[i] = scaler.transform(pd.DataFrame(df[i]))\n",
    "df.describe()"
   ]
  },
  {
   "cell_type": "code",
   "execution_count": 43,
   "metadata": {},
   "outputs": [],
   "source": [
    "df.to_csv('market_test_new_13_5.csv')"
   ]
  }
 ],
 "metadata": {
  "interpreter": {
   "hash": "3a8b42a54f088fe30923504fcd934171dc1abc654684d4555bef7b819a47a4d8"
  },
  "kernelspec": {
   "display_name": "Python 3.9.7 ('base')",
   "language": "python",
   "name": "python3"
  },
  "language_info": {
   "codemirror_mode": {
    "name": "ipython",
    "version": 3
   },
   "file_extension": ".py",
   "mimetype": "text/x-python",
   "name": "python",
   "nbconvert_exporter": "python",
   "pygments_lexer": "ipython3",
   "version": "3.9.7"
  },
  "orig_nbformat": 4
 },
 "nbformat": 4,
 "nbformat_minor": 2
}
